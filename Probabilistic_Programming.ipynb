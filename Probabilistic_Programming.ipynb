{
  "nbformat": 4,
  "nbformat_minor": 0,
  "metadata": {
    "colab": {
      "provenance": [],
      "include_colab_link": true
    },
    "kernelspec": {
      "name": "python3",
      "display_name": "Python 3"
    },
    "language_info": {
      "name": "python"
    }
  },
  "cells": [
    {
      "cell_type": "markdown",
      "metadata": {
        "id": "view-in-github",
        "colab_type": "text"
      },
      "source": [
        "<a href=\"https://colab.research.google.com/github/smanouab/Data_access/blob/main/Probabilistic_Programming.ipynb\" target=\"_parent\"><img src=\"https://colab.research.google.com/assets/colab-badge.svg\" alt=\"Open In Colab\"/></a>"
      ]
    },
    {
      "cell_type": "markdown",
      "metadata": {
        "id": "-cqw8BNwJtCv"
      },
      "source": [
        "# Probabilistic Programming\n",
        "Bu-Ali Sina University, April 1, 2021"
      ]
    },
    {
      "cell_type": "code",
      "metadata": {
        "id": "WY9v0cBqJlTy",
        "colab": {
          "base_uri": "https://localhost:8080/"
        },
        "outputId": "a1b7e5b5-b179-4b5e-c918-d39ffdb77f82"
      },
      "source": [
        "!pip install pyro-ppl"
      ],
      "execution_count": null,
      "outputs": [
        {
          "output_type": "stream",
          "text": [
            "Requirement already satisfied: pyro-ppl in /usr/local/lib/python3.7/dist-packages (1.6.0)\n",
            "Requirement already satisfied: tqdm>=4.36 in /usr/local/lib/python3.7/dist-packages (from pyro-ppl) (4.41.1)\n",
            "Requirement already satisfied: numpy>=1.7 in /usr/local/lib/python3.7/dist-packages (from pyro-ppl) (1.19.5)\n",
            "Requirement already satisfied: torch>=1.8.0 in /usr/local/lib/python3.7/dist-packages (from pyro-ppl) (1.8.1+cu101)\n",
            "Requirement already satisfied: pyro-api>=0.1.1 in /usr/local/lib/python3.7/dist-packages (from pyro-ppl) (0.1.2)\n",
            "Requirement already satisfied: opt-einsum>=2.3.2 in /usr/local/lib/python3.7/dist-packages (from pyro-ppl) (3.3.0)\n",
            "Requirement already satisfied: typing-extensions in /usr/local/lib/python3.7/dist-packages (from torch>=1.8.0->pyro-ppl) (3.7.4.3)\n"
          ],
          "name": "stdout"
        }
      ]
    },
    {
      "cell_type": "code",
      "metadata": {
        "id": "bqbGNALrJ9bc"
      },
      "source": [
        "import torch\n",
        "import torch.nn as nn\n",
        "import pyro\n",
        "import time\n",
        "from torch.distributions import constraints\n",
        "from pyro.distributions import Normal, Poisson, Exponential, Bernoulli\n",
        "from pyro.infer import Trace_ELBO\n",
        "from pyro.infer import MCMC, NUTS, SVI\n",
        "from pyro.optim import RMSprop\n",
        "import matplotlib.pyplot as plt"
      ],
      "execution_count": null,
      "outputs": []
    },
    {
      "cell_type": "markdown",
      "metadata": {
        "id": "oNy2uSQvKoLo"
      },
      "source": [
        "## Stochastic Hello World"
      ]
    },
    {
      "cell_type": "markdown",
      "metadata": {
        "id": "fOx_jrW-OmUx"
      },
      "source": [
        "### Poisson Hello World"
      ]
    },
    {
      "cell_type": "code",
      "metadata": {
        "id": "ebBAaWkRKI7l"
      },
      "source": [
        "def stochastic_hello_world():\n",
        "    n = pyro.sample('n', Poisson(1.0)).int()\n",
        "    for i in range(n):\n",
        "        print('Hello World!')\n",
        "stochastic_hello_world()"
      ],
      "execution_count": null,
      "outputs": []
    },
    {
      "cell_type": "markdown",
      "metadata": {
        "id": "KXHqF9DkOrMW"
      },
      "source": [
        "### Exponential Hello World"
      ]
    },
    {
      "cell_type": "code",
      "metadata": {
        "id": "riu8Q9UxKuyQ",
        "colab": {
          "base_uri": "https://localhost:8080/"
        },
        "outputId": "d0b12dce-0097-486d-9cba-9ef497405170"
      },
      "source": [
        "def stochastic_hello_world():\n",
        "    t = pyro.sample('t', Exponential(0.5))\n",
        "    time.sleep(t)\n",
        "    print('Hello World after {:.2f} seconds'.format(t))\n",
        "stochastic_hello_world()"
      ],
      "execution_count": null,
      "outputs": [
        {
          "output_type": "stream",
          "text": [
            "Hello World after 0.01 seconds\n"
          ],
          "name": "stdout"
        }
      ]
    },
    {
      "cell_type": "markdown",
      "metadata": {
        "id": "X_IP3O821yGJ"
      },
      "source": [
        "### Markovian Arrival Hello World!"
      ]
    },
    {
      "cell_type": "code",
      "metadata": {
        "id": "ZoqpeGPX2AcM",
        "colab": {
          "base_uri": "https://localhost:8080/"
        },
        "outputId": "df2e0055-44ef-4993-f4f9-abd966ead2ce"
      },
      "source": [
        "def stochastic_hello_world():\n",
        "    n = pyro.sample('n', Poisson(4.0)).int()\n",
        "    for i in range(n):\n",
        "        t = pyro.sample('t_{}'.format(i), Exponential(0.5))\n",
        "        time.sleep(t)\n",
        "        print('Hello World after {:.2f} seconds'.format(t))\n",
        "stochastic_hello_world()"
      ],
      "execution_count": null,
      "outputs": [
        {
          "output_type": "stream",
          "text": [
            "Hello World after 1.51 seconds\n",
            "Hello World after 2.42 seconds\n",
            "Hello World after 3.24 seconds\n",
            "Hello World after 1.37 seconds\n"
          ],
          "name": "stdout"
        }
      ]
    },
    {
      "cell_type": "markdown",
      "metadata": {
        "id": "53Sn2eFrLGel"
      },
      "source": [
        "## Bayesian Linear Regression"
      ]
    },
    {
      "cell_type": "code",
      "metadata": {
        "id": "kqoZkXjrLAkH",
        "colab": {
          "base_uri": "https://localhost:8080/",
          "height": 265
        },
        "outputId": "1bf2b2da-b036-42c3-e958-b51c114d1f4a"
      },
      "source": [
        "X = torch.linspace(-1, 1, 100).view(-1, 1)\n",
        "y = 2*X - 3 + torch.normal(0, 0.3, size=X.shape)\n",
        "_ = plt.scatter(X, y)"
      ],
      "execution_count": null,
      "outputs": [
        {
          "output_type": "display_data",
          "data": {
            "image/png": "[encoded data removed]",
            "text/plain": [
              "<Figure size 432x288 with 1 Axes>"
            ]
          },
          "metadata": {
            "tags": [],
            "needs_background": "light"
          }
        }
      ]
    },
    {
      "cell_type": "markdown",
      "metadata": {
        "id": "JVrHrm68Lasj"
      },
      "source": [
        "### Model Definition"
      ]
    },
    {
      "cell_type": "code",
      "metadata": {
        "id": "iqKuXsHCLObp"
      },
      "source": [
        "def bayesian_regression(X, y):\n",
        "  alpha = pyro.sample('alpha', Normal(0.0, 3.0))\n",
        "  beta = pyro.sample('beta', Normal(0.0, 3.0))\n",
        "\n",
        "  with pyro.plate('data'):\n",
        "    pyro.sample('y',\n",
        "                Normal(alpha*X+beta, 1.0).to_event(1), obs=y)"
      ],
      "execution_count": null,
      "outputs": []
    },
    {
      "cell_type": "markdown",
      "metadata": {
        "id": "hAehRosjLhGe"
      },
      "source": [
        "### Infrence using Markov Chain Monte Carlo"
      ]
    },
    {
      "cell_type": "code",
      "metadata": {
        "id": "6jaZAD5QLexj",
        "colab": {
          "base_uri": "https://localhost:8080/"
        },
        "outputId": "305f0947-eba3-473d-f6cf-3153a7c2f6dc"
      },
      "source": [
        "nuts_kernel = NUTS(bayesian_regression, jit_compile=True)\n",
        "mcmc = MCMC(nuts_kernel,\n",
        "                num_samples=5000,\n",
        "                warmup_steps=300)\n",
        "mcmc.run(X, y)"
      ],
      "execution_count": null,
      "outputs": [
        {
          "output_type": "stream",
          "text": [
            "Sample: 100%|██████████| 5300/5300 [00:23, 222.36it/s, step size=9.50e-01, acc. prob=0.914]\n"
          ],
          "name": "stderr"
        }
      ]
    },
    {
      "cell_type": "code",
      "metadata": {
        "id": "e6Z4lMO8LvM3",
        "colab": {
          "base_uri": "https://localhost:8080/"
        },
        "outputId": "fddc0ad3-17b9-4f44-b06c-36cacef1712c"
      },
      "source": [
        "mcmc.summary()"
      ],
      "execution_count": null,
      "outputs": [
        {
          "output_type": "stream",
          "text": [
            "\n",
            "                mean       std    median      5.0%     95.0%     n_eff     r_hat\n",
            "     alpha      2.00      0.17      2.00      1.73      2.27   4843.27      1.00\n",
            "      beta     -3.04      0.10     -3.04     -3.20     -2.89   4554.27      1.00\n",
            "\n",
            "Number of divergences: 0\n"
          ],
          "name": "stdout"
        }
      ]
    },
    {
      "cell_type": "code",
      "metadata": {
        "id": "Zqer5F6IL3Ek",
        "colab": {
          "base_uri": "https://localhost:8080/"
        },
        "outputId": "cca9cc96-f1e5-4e78-83f2-bbaa71349358"
      },
      "source": [
        "mcmc.get_samples()"
      ],
      "execution_count": null,
      "outputs": [
        {
          "output_type": "execute_result",
          "data": {
            "text/plain": [
              "{'alpha': tensor([1.7783, 2.0674, 2.0498,  ..., 2.0150, 1.7935, 1.9694]),\n",
              " 'beta': tensor([-2.8799, -3.1618, -2.9640,  ..., -2.9586, -3.0031, -2.8473])}"
            ]
          },
          "metadata": {
            "tags": []
          },
          "execution_count": 29
        }
      ]
    },
    {
      "cell_type": "markdown",
      "metadata": {
        "id": "KN-qJKQCL-BA"
      },
      "source": [
        "### Inferene using Stochastic Variational Inference"
      ]
    },
    {
      "cell_type": "markdown",
      "metadata": {
        "id": "iK0yPMG8MJrV"
      },
      "source": [
        "#### Variational Distribution Definition"
      ]
    },
    {
      "cell_type": "code",
      "metadata": {
        "id": "2kSlKJgfL7cP"
      },
      "source": [
        "def guide(X, y):\n",
        "  alpha_mu = pyro.param('alpha_mu', torch.tensor(0.0))\n",
        "  alpha_sigma = pyro.param('alpha_sigma', torch.tensor(1.0),\n",
        "                           constraint=constraints.positive)\n",
        "  beta_mu = pyro.param('beta_mu', torch.tensor(0.0))\n",
        "  beta_sigma = pyro.param('beta_sigma', torch.tensor(1.0),\n",
        "                          constraint=constraints.positive)\n",
        "\n",
        "  pyro.sample('alpha', Normal(alpha_mu, alpha_sigma))\n",
        "  pyro.sample('beta', Normal(beta_mu, beta_sigma))"
      ],
      "execution_count": null,
      "outputs": []
    },
    {
      "cell_type": "markdown",
      "metadata": {
        "id": "lbhZ-GzDMjqm"
      },
      "source": [
        "#### Minimizing ELBO using RMSProp"
      ]
    },
    {
      "cell_type": "code",
      "metadata": {
        "id": "RU68fueNMN6D"
      },
      "source": [
        "pyro.clear_param_store()\n",
        "optimizer = RMSprop({\"lr\": 0.2})\n",
        "svi = SVI(bayesian_regression, guide,\n",
        "          optimizer, loss=Trace_ELBO())\n",
        "\n",
        "loss = []\n",
        "n_steps = 80\n",
        "for step in range(n_steps):\n",
        "  loss.append(svi.step(X, y))"
      ],
      "execution_count": null,
      "outputs": []
    },
    {
      "cell_type": "code",
      "metadata": {
        "id": "YkLYdyptMbzP",
        "colab": {
          "base_uri": "https://localhost:8080/",
          "height": 268
        },
        "outputId": "5f65187d-b533-4ae0-9227-3cc712128a07"
      },
      "source": [
        "_ = plt.plot(loss)"
      ],
      "execution_count": null,
      "outputs": [
        {
          "output_type": "display_data",
          "data": {
            "image/png": "[encoded data removed]",
            "text/plain": [
              "<Figure size 432x288 with 1 Axes>"
            ]
          },
          "metadata": {
            "tags": [],
            "needs_background": "light"
          }
        }
      ]
    },
    {
      "cell_type": "code",
      "metadata": {
        "id": "wLQeHitkMrun",
        "colab": {
          "base_uri": "https://localhost:8080/"
        },
        "outputId": "97efc962-8c46-4fc5-b6dc-e568a7837842"
      },
      "source": [
        "alpha_mu = pyro.param('alpha_mu').item()\n",
        "alpha_sigma = pyro.param('alpha_sigma').item()\n",
        "\n",
        "beta_mu = pyro.param('beta_mu').item()\n",
        "beta_sigma = pyro.param('beta_sigma').item()\n",
        "\n",
        "print('alpha : mu : {:.2f} | sigma : {:.2f}'.format(alpha_mu, alpha_sigma))\n",
        "print('beta : mu : {:.2f} | sigma : {:.2f}'.format(beta_mu, beta_sigma))"
      ],
      "execution_count": null,
      "outputs": [
        {
          "output_type": "stream",
          "text": [
            "alpha : mu : 1.91 | sigma : 0.45\n",
            "beta : mu : -2.96 | sigma : 0.08\n"
          ],
          "name": "stdout"
        }
      ]
    },
    {
      "cell_type": "code",
      "metadata": {
        "id": "tE7XPmXBl7E2"
      },
      "source": [],
      "execution_count": null,
      "outputs": []
    }
  ]
}
