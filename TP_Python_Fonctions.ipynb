{
  "nbformat": 4,
  "nbformat_minor": 0,
  "metadata": {
    "colab": {
      "provenance": [],
      "authorship_tag": "ABX9TyME+hON2vss6ZN3ey+H+LQ4",
      "include_colab_link": true
    },
    "kernelspec": {
      "name": "python3",
      "display_name": "Python 3"
    },
    "language_info": {
      "name": "python"
    }
  },
  "cells": [
    {
      "cell_type": "markdown",
      "metadata": {
        "id": "view-in-github",
        "colab_type": "text"
      },
      "source": [
        "<a href=\"https://colab.research.google.com/github/smanouab/Data_access/blob/main/TP_Python_Fonctions.ipynb\" target=\"_parent\"><img src=\"https://colab.research.google.com/assets/colab-badge.svg\" alt=\"Open In Colab\"/></a>"
      ]
    },
    {
      "cell_type": "code",
      "execution_count": 2,
      "metadata": {
        "id": "eOwGfaVtVVPF"
      },
      "outputs": [],
      "source": [
        "def puissance(x,n):\n",
        "  if n==0:\n",
        "    return 1\n",
        "  else:\n",
        "    return x*puissance(x,n-1)"
      ]
    },
    {
      "cell_type": "code",
      "source": [
        "puissance(2,5)"
      ],
      "metadata": {
        "colab": {
          "base_uri": "https://localhost:8080/"
        },
        "id": "TuYlivfyVj3p",
        "outputId": "b0a14263-9e06-4fee-b12c-723a041bd67e"
      },
      "execution_count": 3,
      "outputs": [
        {
          "output_type": "execute_result",
          "data": {
            "text/plain": [
              "32"
            ]
          },
          "metadata": {},
          "execution_count": 3
        }
      ]
    },
    {
      "cell_type": "code",
      "source": [
        "def factorielle(n):\n",
        "  p=1\n",
        "  for i in range (2,n+1):\n",
        "    p*=i\n",
        "  return p"
      ],
      "metadata": {
        "id": "Tda6xjO7Z-M6"
      },
      "execution_count": 7,
      "outputs": []
    },
    {
      "cell_type": "code",
      "source": [
        "factorielle(3)"
      ],
      "metadata": {
        "colab": {
          "base_uri": "https://localhost:8080/"
        },
        "id": "IN0HS4RRaQz0",
        "outputId": "3af00125-295e-4144-a6a2-e0e0a4d8ae21"
      },
      "execution_count": 19,
      "outputs": [
        {
          "output_type": "execute_result",
          "data": {
            "text/plain": [
              "6"
            ]
          },
          "metadata": {},
          "execution_count": 19
        }
      ]
    },
    {
      "cell_type": "code",
      "source": [
        "def factoriellebis(n):\n",
        "   if n==0:\n",
        "    return(1)\n",
        "   else:\n",
        "      return (n*factorielle(n-1))"
      ],
      "metadata": {
        "id": "SJ1asAFKaWUT"
      },
      "execution_count": 14,
      "outputs": []
    },
    {
      "cell_type": "code",
      "source": [
        "factoriellebis(3)"
      ],
      "metadata": {
        "colab": {
          "base_uri": "https://localhost:8080/"
        },
        "id": "SJNEy5oWaqEH",
        "outputId": "338523ce-e486-4fa4-f34d-d2aca2e73d86"
      },
      "execution_count": 15,
      "outputs": [
        {
          "output_type": "execute_result",
          "data": {
            "text/plain": [
              "6"
            ]
          },
          "metadata": {},
          "execution_count": 15
        }
      ]
    },
    {
      "cell_type": "code",
      "source": [
        "def maximum(liste):\n",
        "  maxi=liste[0]\n",
        "  for data in liste:\n",
        "    if data > maxi:\n",
        "      maxi=data\n",
        "  return maxi"
      ],
      "metadata": {
        "id": "9KmzUi1de4FO"
      },
      "execution_count": 18,
      "outputs": []
    },
    {
      "cell_type": "code",
      "source": [
        "maximum([1,2,3])"
      ],
      "metadata": {
        "colab": {
          "base_uri": "https://localhost:8080/"
        },
        "id": "dwNV0q5OfGlX",
        "outputId": "063dd3c5-f899-4bcd-bf0b-e7031ba670e4"
      },
      "execution_count": 20,
      "outputs": [
        {
          "output_type": "execute_result",
          "data": {
            "text/plain": [
              "3"
            ]
          },
          "metadata": {},
          "execution_count": 20
        }
      ]
    },
    {
      "cell_type": "code",
      "source": [
        "def somme(liste):\n",
        "  compteur=0\n",
        "  for data in liste:\n",
        "    compteur+=data\n",
        "    return compteur"
      ],
      "metadata": {
        "id": "k3-UPjMmfOGN"
      },
      "execution_count": 43,
      "outputs": []
    },
    {
      "cell_type": "code",
      "source": [
        "liste=[1,2,3,4,5]\n",
        "\n",
        "print(liste)"
      ],
      "metadata": {
        "colab": {
          "base_uri": "https://localhost:8080/"
        },
        "id": "GBKEWt1Xfhaq",
        "outputId": "d30f2acf-1e1c-4ca1-ba8b-2239fb87281e"
      },
      "execution_count": 44,
      "outputs": [
        {
          "output_type": "stream",
          "name": "stdout",
          "text": [
            "[1, 2, 3, 4, 5]\n"
          ]
        }
      ]
    },
    {
      "cell_type": "code",
      "source": [
        "somme(liste)"
      ],
      "metadata": {
        "colab": {
          "base_uri": "https://localhost:8080/"
        },
        "id": "c4YIxbRnfZm4",
        "outputId": "4ad11da2-ec0d-427b-d467-3dcbd3ffb7d6"
      },
      "execution_count": 47,
      "outputs": [
        {
          "output_type": "execute_result",
          "data": {
            "text/plain": [
              "1"
            ]
          },
          "metadata": {},
          "execution_count": 47
        }
      ]
    }
  ]
}